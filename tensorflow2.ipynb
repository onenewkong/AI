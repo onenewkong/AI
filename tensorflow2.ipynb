{
 "cells": [
  {
   "cell_type": "code",
   "execution_count": 3,
   "id": "ee769da4",
   "metadata": {},
   "outputs": [
    {
     "name": "stdout",
     "output_type": "stream",
     "text": [
      "tf.Tensor(10.5, shape=(), dtype=float32)\n",
      "10.5\n"
     ]
    }
   ],
   "source": [
    "import tensorflow as tf                   # ver 2.x\n",
    "\n",
    "a = tf.constant(7.0, name = 'data1')\n",
    "b = tf.constant(3.0, name = 'data2')\n",
    "c = tf.constant(2.0, name = 'data3')\n",
    "\n",
    "v = a * b / c\n",
    "\n",
    "print(v)\n",
    "print(v.numpy())"
   ]
  },
  {
   "cell_type": "code",
   "execution_count": 4,
   "id": "00916c44",
   "metadata": {},
   "outputs": [
    {
     "name": "stdout",
     "output_type": "stream",
     "text": [
      "0 38.82670966763568, [7.90159594], [3.38880493]\n",
      "100 22.43386354994935, [13.51062646], [4.44467131]\n",
      "200 22.43265352858338, [13.49245098], [4.55315622]\n",
      "300 22.431606317025928, [13.47553918], [4.65407864]\n",
      "400 22.43070002743819, [13.45980637], [4.7479653]\n",
      "500 22.429915709922682, [13.4451705], [4.83530594]\n",
      "600 22.429236959326495, [13.43155518], [4.91655634]\n",
      "700 22.428649574382405, [13.41888933], [4.99214068]\n",
      "800 22.428141262288225, [13.40710682], [5.06245367]\n",
      "900 22.427701382722184, [13.39614609], [5.12786264]\n",
      "1000 22.42732072607118, [13.38594987], [5.18870935]\n",
      "1100 22.426991321330117, [13.37646486], [5.2453118]\n",
      "1200 22.42670626972571, [13.36764149], [5.29796589]\n",
      "1300 22.426459600637248, [13.35943363], [5.3469469]\n",
      "1400 22.426246146839144, [13.35179836], [5.39251095]\n",
      "1500 22.42606143648386, [13.34469574], [5.43489632]\n",
      "1600 22.425901599586076, [13.33808864], [5.47432469]\n",
      "1700 22.425763287066943, [13.33194248], [5.51100231]\n",
      "1800 22.425643600675368, [13.32622513], [5.54512103]\n",
      "1900 22.425540032328087, [13.32090667], [5.57685934]\n"
     ]
    }
   ],
   "source": [
    "import tensorflow as tf  \n",
    "\n",
    "data = [[2, 8], [4, 93], [6, 91], [8, 97]]\n",
    "x_train = [x_row[0] for x_row in data]\n",
    "y_train = [y_row[1] for y_row in data]\n",
    "w = tf.Variable(tf.random.uniform([1], 0, 10, dtype=tf.float64, seed=0))\n",
    "b = tf.Variable(tf.random.uniform([1], 0, 10, dtype=tf.float64, seed=0))\n",
    "\n",
    "def hypothesis(w, b):\n",
    "    return x_train * w + b\n",
    "\n",
    "def costFunc():\n",
    "    return tf.sqrt(tf.reduce_mean(tf.square(hypothesis(w, b) - y_train)))\n",
    "\n",
    "def cost(w, b):\n",
    "    return tf.sqrt(tf.reduce_mean(tf.square(hypothesis(w, b) - y_train)))\n",
    "\n",
    "opt = tf.keras.optimizers.SGD(learning_rate=0.1)\n",
    "for i in range(2000):\n",
    "    opt.minimize(costFunc, var_list=[w, b])\n",
    "    if i % 100 == 0:\n",
    "        print(i, f'{cost(w, b)}, {w.numpy()}, {b.numpy()}')"
   ]
  },
  {
   "cell_type": "code",
   "execution_count": null,
   "id": "cfc813c5",
   "metadata": {},
   "outputs": [],
   "source": []
  }
 ],
 "metadata": {
  "kernelspec": {
   "display_name": "Python 3 (ipykernel)",
   "language": "python",
   "name": "python3"
  },
  "language_info": {
   "codemirror_mode": {
    "name": "ipython",
    "version": 3
   },
   "file_extension": ".py",
   "mimetype": "text/x-python",
   "name": "python",
   "nbconvert_exporter": "python",
   "pygments_lexer": "ipython3",
   "version": "3.8.15"
  }
 },
 "nbformat": 4,
 "nbformat_minor": 5
}
