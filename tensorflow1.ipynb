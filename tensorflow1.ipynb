{
 "cells": [
  {
   "cell_type": "code",
   "execution_count": 2,
   "id": "de1f06b1",
   "metadata": {},
   "outputs": [
    {
     "name": "stdout",
     "output_type": "stream",
     "text": [
      "10.5\n"
     ]
    }
   ],
   "source": [
    "import tensorflow.compat.v1 as tf                   # 1.x 버전을 import\n",
    "tf.disable_v2_behavior()                            # 2.x 버전을 비활성화\n",
    "\n",
    "a = tf.constant(7.0, name = 'data1')               # constant: 상수\n",
    "b = tf.constant(3.0, name = 'data2')\n",
    "c = tf.constant(2.0, name = 'data3')\n",
    "\n",
    "v = a * b / c\n",
    "\n",
    "with tf.Session() as sess:\n",
    "    sess.run(tf.global_variables_initializer())\n",
    "    print(sess.run(v))"
   ]
  },
  {
   "cell_type": "code",
   "execution_count": 3,
   "id": "7f64c3a6",
   "metadata": {},
   "outputs": [
    {
     "name": "stdout",
     "output_type": "stream",
     "text": [
      "[ 2.  4.  6.  8. 10.]\n"
     ]
    }
   ],
   "source": [
    "import tensorflow.compat.v1 as tf \n",
    "tf.disable_v2_behavior() \n",
    "\n",
    "input_data = [1, 2, 3, 4, 5]\n",
    "\n",
    "x = tf.placeholder(dtype=tf.float32)\n",
    "y = x * 2\n",
    "\n",
    "sess = tf.Session()\n",
    "result = sess.run(y, feed_dict={x:input_data})       # placeholder\n",
    "sess.close()\n",
    "\n",
    "print(result)"
   ]
  },
  {
   "cell_type": "code",
   "execution_count": 6,
   "id": "fed02282",
   "metadata": {},
   "outputs": [
    {
     "name": "stdout",
     "output_type": "stream",
     "text": [
      "53.0\n"
     ]
    }
   ],
   "source": [
    "import tensorflow.compat.v1 as tf \n",
    "tf.disable_v2_behavior() \n",
    "\n",
    "p_holder1 = tf.placeholder(dtype=tf.float32)\n",
    "p_holder2 = tf.placeholder(dtype=tf.float32)\n",
    "p_holder3 = tf.placeholder(dtype=tf.float32)\n",
    "\n",
    "val1 = 5\n",
    "val2 = 10\n",
    "val3 = 3\n",
    "\n",
    "ret_val = p_holder1 * p_holder2 + p_holder3\n",
    "\n",
    "sess = tf.Session()\n",
    "feed_dict_data = {p_holder1: val1, p_holder2: val2, p_holder3: val3}\n",
    "result = sess.run(ret_val, feed_dict=feed_dict_data)\n",
    "sess.close()\n",
    "print(result)"
   ]
  },
  {
   "cell_type": "code",
   "execution_count": 8,
   "id": "d160dfca",
   "metadata": {},
   "outputs": [
    {
     "name": "stdout",
     "output_type": "stream",
     "text": [
      "[[30. 30.]\n",
      " [70. 70.]]\n"
     ]
    }
   ],
   "source": [
    "import tensorflow.compat.v1 as tf \n",
    "tf.disable_v2_behavior() \n",
    "\n",
    "I = tf.Variable([[1, 2, 3, 4], [5, 6, 7, 8]], dtype = tf.float32)\n",
    "W = tf.Variable([[1, 1], [2, 2], [3, 3], [4, 4]], dtype = tf.float32)\n",
    "\n",
    "m_cal = tf.matmul(I, W)\n",
    "\n",
    "sess = tf.Session()\n",
    "sess.run(tf.global_variables_initializer())\n",
    "\n",
    "print(sess.run(m_cal))\n",
    "\n",
    "sess.close()"
   ]
  },
  {
   "cell_type": "code",
   "execution_count": 9,
   "id": "afa70ab7",
   "metadata": {},
   "outputs": [
    {
     "name": "stdout",
     "output_type": "stream",
     "text": [
      "[11. 22. 33. 44. 55.]\n"
     ]
    }
   ],
   "source": [
    "import tensorflow.compat.v1 as tf \n",
    "tf.disable_v2_behavior() \n",
    "\n",
    "mat_img = [1, 2, 3, 4, 5]\n",
    "label = [10, 20, 30, 40, 50]\n",
    "ph_img = tf.placeholder(dtype = tf.float32)\n",
    "ph_lb = tf.placeholder(dtype = tf.float32)\n",
    "\n",
    "ret_tensor = ph_img + ph_lb\n",
    "\n",
    "sess = tf.Session()\n",
    "result = sess.run(ret_tensor, feed_dict={ph_img:mat_img, ph_lb:label}) \n",
    "sess.close()\n",
    "print(result)"
   ]
  },
  {
   "cell_type": "code",
   "execution_count": 13,
   "id": "896196c3",
   "metadata": {},
   "outputs": [
    {
     "name": "stdout",
     "output_type": "stream",
     "text": [
      "Epoch: 0, RMSE = 30.2139, 기울기 a  = 7.5235, y 절편 b = 80.5984\n",
      "Epoch: 100, RMSE = 2.8860, 기울기 a  = 2.2299, y 절편 b = 79.4181\n",
      "Epoch: 200, RMSE = 2.8826, 기울기 a  = 2.2601, y 절편 b = 79.2379\n",
      "Epoch: 300, RMSE = 2.8815, 기울기 a  = 2.2773, y 절편 b = 79.1353\n",
      "Epoch: 400, RMSE = 2.8811, 기울기 a  = 2.2871, y 절편 b = 79.0770\n",
      "Epoch: 500, RMSE = 2.8810, 기울기 a  = 2.2927, y 절편 b = 79.0438\n",
      "Epoch: 600, RMSE = 2.8810, 기울기 a  = 2.2958, y 절편 b = 79.0249\n",
      "Epoch: 700, RMSE = 2.8810, 기울기 a  = 2.2976, y 절편 b = 79.0142\n",
      "Epoch: 800, RMSE = 2.8810, 기울기 a  = 2.2987, y 절편 b = 79.0081\n",
      "Epoch: 900, RMSE = 2.8810, 기울기 a  = 2.2992, y 절편 b = 79.0046\n",
      "Epoch: 1000, RMSE = 2.8810, 기울기 a  = 2.2996, y 절편 b = 79.0026\n",
      "Epoch: 1100, RMSE = 2.8810, 기울기 a  = 2.2998, y 절편 b = 79.0015\n",
      "Epoch: 1200, RMSE = 2.8810, 기울기 a  = 2.2999, y 절편 b = 79.0008\n",
      "Epoch: 1300, RMSE = 2.8810, 기울기 a  = 2.2999, y 절편 b = 79.0005\n",
      "Epoch: 1400, RMSE = 2.8810, 기울기 a  = 2.3000, y 절편 b = 79.0003\n",
      "Epoch: 1500, RMSE = 2.8810, 기울기 a  = 2.3000, y 절편 b = 79.0002\n",
      "Epoch: 1600, RMSE = 2.8810, 기울기 a  = 2.3000, y 절편 b = 79.0001\n",
      "Epoch: 1700, RMSE = 2.8810, 기울기 a  = 2.3000, y 절편 b = 79.0001\n",
      "Epoch: 1800, RMSE = 2.8810, 기울기 a  = 2.3000, y 절편 b = 79.0000\n",
      "Epoch: 1900, RMSE = 2.8810, 기울기 a  = 2.3000, y 절편 b = 79.0000\n",
      "Epoch: 2000, RMSE = 2.8810, 기울기 a  = 2.3000, y 절편 b = 79.0000\n"
     ]
    }
   ],
   "source": [
    "import tensorflow.compat.v1 as tf \n",
    "tf.disable_v2_behavior() \n",
    "\n",
    "data = [[2, 81], [4, 93], [6, 91], [8, 97]]\n",
    "x_data = [x_row[0] for x_row in data]\n",
    "y_data = [y_row[1] for y_row in data]\n",
    "\n",
    "a = tf.Variable(tf.random_uniform([1], 0, 10, dtype = tf.float64, seed = 0))\n",
    "b = tf.Variable(tf.random_uniform([1], 0, 100, dtype = tf.float64, seed = 0))\n",
    "\n",
    "y = a * x_data + b\n",
    "\n",
    "rmse = tf.sqrt(tf.reduce_mean(tf.square(y - y_data)))\n",
    "\n",
    "learning_rate = 0.1\n",
    "\n",
    "gradient_decent = tf.train.GradientDescentOptimizer(learning_rate).minimize(rmse)\n",
    "\n",
    "with tf.Session() as sess:\n",
    "    sess.run(tf.global_variables_initializer())\n",
    "    for step in range(2001):\n",
    "        sess.run(gradient_decent)\n",
    "        if step % 100 == 0:\n",
    "            print(\"Epoch: %.f, RMSE = %.04f, 기울기 a  = %.4f, y 절편 b = %.4f\" % (step, sess.run(rmse), sess.run(a), sess.run(b)))"
   ]
  },
  {
   "cell_type": "code",
   "execution_count": 21,
   "id": "b987d0ae",
   "metadata": {},
   "outputs": [
    {
     "name": "stdout",
     "output_type": "stream",
     "text": [
      "Epoch: 0, RMSE = 0.8336, 기울기 a  = 0.0050, y 절편 b = 0.0009\n",
      "Epoch: 100, RMSE = 0.0763, 기울기 a  = 0.1664, y 절편 b = 0.0179\n",
      "Epoch: 200, RMSE = 0.0748, 기울기 a  = 0.1685, y 절편 b = 0.0059\n",
      "Epoch: 300, RMSE = 0.0739, 기울기 a  = 0.1702, y 절편 b = -0.0035\n",
      "Epoch: 400, RMSE = 0.0734, 기울기 a  = 0.1715, y 절편 b = -0.0108\n",
      "Epoch: 500, RMSE = 0.0730, 기울기 a  = 0.1725, y 절편 b = -0.0163\n",
      "Epoch: 600, RMSE = 0.0729, 기울기 a  = 0.1732, y 절편 b = -0.0205\n",
      "Epoch: 700, RMSE = 0.0728, 기울기 a  = 0.1738, y 절편 b = -0.0237\n",
      "Epoch: 800, RMSE = 0.0727, 기울기 a  = 0.1742, y 절편 b = -0.0262\n",
      "Epoch: 900, RMSE = 0.0727, 기울기 a  = 0.1745, y 절편 b = -0.0281\n",
      "Epoch: 1000, RMSE = 0.0726, 기울기 a  = 0.1748, y 절편 b = -0.0295\n",
      "Epoch: 1100, RMSE = 0.0726, 기울기 a  = 0.1750, y 절편 b = -0.0305\n",
      "Epoch: 1200, RMSE = 0.0726, 기울기 a  = 0.1751, y 절편 b = -0.0314\n",
      "Epoch: 1300, RMSE = 0.0726, 기울기 a  = 0.1752, y 절편 b = -0.0320\n",
      "Epoch: 1400, RMSE = 0.0726, 기울기 a  = 0.1753, y 절편 b = -0.0324\n",
      "Epoch: 1500, RMSE = 0.0726, 기울기 a  = 0.1754, y 절편 b = -0.0328\n",
      "Epoch: 1600, RMSE = 0.0726, 기울기 a  = 0.1754, y 절편 b = -0.0331\n",
      "Epoch: 1700, RMSE = 0.0726, 기울기 a  = 0.1755, y 절편 b = -0.0333\n",
      "Epoch: 1800, RMSE = 0.0726, 기울기 a  = 0.1755, y 절편 b = -0.0334\n",
      "Epoch: 1900, RMSE = 0.0726, 기울기 a  = 0.1755, y 절편 b = -0.0336\n",
      "Epoch: 2000, RMSE = 0.0726, 기울기 a  = 0.1755, y 절편 b = -0.0336\n",
      "Epoch: 2100, RMSE = 0.0726, 기울기 a  = 0.1756, y 절편 b = -0.0337\n",
      "Epoch: 2200, RMSE = 0.0726, 기울기 a  = 0.1756, y 절편 b = -0.0338\n",
      "Epoch: 2300, RMSE = 0.0726, 기울기 a  = 0.1756, y 절편 b = -0.0338\n",
      "Epoch: 2400, RMSE = 0.0726, 기울기 a  = 0.1756, y 절편 b = -0.0338\n",
      "Epoch: 2500, RMSE = 0.0726, 기울기 a  = 0.1756, y 절편 b = -0.0339\n",
      "Epoch: 2600, RMSE = 0.0726, 기울기 a  = 0.1756, y 절편 b = -0.0339\n",
      "Epoch: 2700, RMSE = 0.0726, 기울기 a  = 0.1756, y 절편 b = -0.0339\n",
      "Epoch: 2800, RMSE = 0.0726, 기울기 a  = 0.1756, y 절편 b = -0.0339\n",
      "Epoch: 2900, RMSE = 0.0726, 기울기 a  = 0.1756, y 절편 b = -0.0339\n",
      "Epoch: 3000, RMSE = 0.0726, 기울기 a  = 0.1756, y 절편 b = -0.0339\n",
      "Epoch: 3100, RMSE = 0.0726, 기울기 a  = 0.1756, y 절편 b = -0.0339\n",
      "Epoch: 3200, RMSE = 0.0726, 기울기 a  = 0.1756, y 절편 b = -0.0339\n",
      "Epoch: 3300, RMSE = 0.0726, 기울기 a  = 0.1756, y 절편 b = -0.0339\n",
      "Epoch: 3400, RMSE = 0.0726, 기울기 a  = 0.1756, y 절편 b = -0.0339\n",
      "Epoch: 3500, RMSE = 0.0726, 기울기 a  = 0.1756, y 절편 b = -0.0339\n",
      "Epoch: 3600, RMSE = 0.0726, 기울기 a  = 0.1756, y 절편 b = -0.0339\n",
      "Epoch: 3700, RMSE = 0.0726, 기울기 a  = 0.1756, y 절편 b = -0.0339\n",
      "Epoch: 3800, RMSE = 0.0726, 기울기 a  = 0.1756, y 절편 b = -0.0339\n",
      "Epoch: 3900, RMSE = 0.0726, 기울기 a  = 0.1756, y 절편 b = -0.0339\n",
      "Epoch: 4000, RMSE = 0.0726, 기울기 a  = 0.1756, y 절편 b = -0.0339\n",
      "Epoch: 4100, RMSE = 0.0726, 기울기 a  = 0.1756, y 절편 b = -0.0339\n",
      "Epoch: 4200, RMSE = 0.0726, 기울기 a  = 0.1756, y 절편 b = -0.0339\n",
      "Epoch: 4300, RMSE = 0.0726, 기울기 a  = 0.1756, y 절편 b = -0.0339\n",
      "Epoch: 4400, RMSE = 0.0726, 기울기 a  = 0.1756, y 절편 b = -0.0339\n",
      "Epoch: 4500, RMSE = 0.0726, 기울기 a  = 0.1756, y 절편 b = -0.0339\n",
      "Epoch: 4600, RMSE = 0.0726, 기울기 a  = 0.1756, y 절편 b = -0.0339\n",
      "Epoch: 4700, RMSE = 0.0726, 기울기 a  = 0.1756, y 절편 b = -0.0339\n",
      "Epoch: 4800, RMSE = 0.0726, 기울기 a  = 0.1756, y 절편 b = -0.0339\n",
      "Epoch: 4900, RMSE = 0.0726, 기울기 a  = 0.1756, y 절편 b = -0.0339\n",
      "Epoch: 5000, RMSE = 0.0726, 기울기 a  = 0.1756, y 절편 b = -0.0339\n"
     ]
    }
   ],
   "source": [
    "import tensorflow.compat.v1 as tf \n",
    "tf.disable_v2_behavior() \n",
    "\n",
    "data = [[1, 0.2], [2, 0.3], [3, 0.5], [4, 0.6], [5, 0.9], [6, 0.95], [7, 1.1], [8, 1.5]]\n",
    "x_data = [x_row[0] for x_row in data]\n",
    "y_data = [y_row[1] for y_row in data]\n",
    "\n",
    "a = tf.Variable(0.,  dtype = tf.float64)\n",
    "b = tf.Variable(0., dtype = tf.float64)\n",
    "\n",
    "y = a * x_data + b\n",
    "\n",
    "rmse = tf.sqrt(tf.reduce_mean(tf.square(y - y_data)))\n",
    "\n",
    "learning_rate = 0.001\n",
    "\n",
    "gradient_decent = tf.train.GradientDescentOptimizer(learning_rate).minimize(rmse)\n",
    "\n",
    "with tf.Session() as sess:\n",
    "    sess.run(tf.global_variables_initializer())\n",
    "    for step in range(5001):\n",
    "        sess.run(gradient_decent)\n",
    "        if step % 100 == 0:\n",
    "            print(\"Epoch: %.f, RMSE = %.04f, 기울기 a  = %.4f, y 절편 b = %.4f\" % (step, sess.run(rmse), sess.run(a), sess.run(b)))"
   ]
  },
  {
   "cell_type": "code",
   "execution_count": 23,
   "id": "76cd803c",
   "metadata": {},
   "outputs": [
    {
     "name": "stdout",
     "output_type": "stream",
     "text": [
      "Epoch: 0, RMSE = 49.1842, 기울기 a1  = 7.5270, 기울기 a2 = 7.8160, y 절편 b = 80.5980\n",
      "Epoch: 100, RMSE = 1.8368, 기울기 a1  = 1.1306, 기울기 a2 = 2.1316, y 절편 b = 78.5119\n",
      "Epoch: 200, RMSE = 1.8370, 기울기 a1  = 1.1879, 기울기 a2 = 2.1487, y 절편 b = 78.1057\n",
      "Epoch: 300, RMSE = 1.8370, 기울기 a1  = 1.2122, 기울기 a2 = 2.1571, y 절편 b = 77.9352\n",
      "Epoch: 400, RMSE = 1.8370, 기울기 a1  = 1.2226, 기울기 a2 = 2.1607, y 절편 b = 77.8636\n",
      "Epoch: 500, RMSE = 1.8370, 기울기 a1  = 1.2269, 기울기 a2 = 2.1622, y 절편 b = 77.8335\n",
      "Epoch: 600, RMSE = 1.8370, 기울기 a1  = 1.2288, 기울기 a2 = 2.1628, y 절편 b = 77.8208\n",
      "Epoch: 700, RMSE = 1.8370, 기울기 a1  = 1.2295, 기울기 a2 = 2.1631, y 절편 b = 77.8155\n",
      "Epoch: 800, RMSE = 1.8370, 기울기 a1  = 1.2299, 기울기 a2 = 2.1632, y 절편 b = 77.8133\n",
      "Epoch: 900, RMSE = 1.8370, 기울기 a1  = 1.2300, 기울기 a2 = 2.1632, y 절편 b = 77.8124\n",
      "Epoch: 1000, RMSE = 1.8370, 기울기 a1  = 1.2301, 기울기 a2 = 2.1633, y 절편 b = 77.8120\n",
      "Epoch: 1100, RMSE = 1.8370, 기울기 a1  = 1.2301, 기울기 a2 = 2.1633, y 절편 b = 77.8118\n",
      "Epoch: 1200, RMSE = 1.8370, 기울기 a1  = 1.2301, 기울기 a2 = 2.1633, y 절편 b = 77.8117\n",
      "Epoch: 1300, RMSE = 1.8370, 기울기 a1  = 1.2301, 기울기 a2 = 2.1633, y 절편 b = 77.8117\n",
      "Epoch: 1400, RMSE = 1.8370, 기울기 a1  = 1.2301, 기울기 a2 = 2.1633, y 절편 b = 77.8117\n",
      "Epoch: 1500, RMSE = 1.8370, 기울기 a1  = 1.2301, 기울기 a2 = 2.1633, y 절편 b = 77.8117\n",
      "Epoch: 1600, RMSE = 1.8370, 기울기 a1  = 1.2301, 기울기 a2 = 2.1633, y 절편 b = 77.8117\n",
      "Epoch: 1700, RMSE = 1.8370, 기울기 a1  = 1.2301, 기울기 a2 = 2.1633, y 절편 b = 77.8117\n",
      "Epoch: 1800, RMSE = 1.8370, 기울기 a1  = 1.2301, 기울기 a2 = 2.1633, y 절편 b = 77.8117\n",
      "Epoch: 1900, RMSE = 1.8370, 기울기 a1  = 1.2301, 기울기 a2 = 2.1633, y 절편 b = 77.8117\n",
      "Epoch: 2000, RMSE = 1.8370, 기울기 a1  = 1.2301, 기울기 a2 = 2.1633, y 절편 b = 77.8117\n"
     ]
    }
   ],
   "source": [
    "import tensorflow.compat.v1 as tf \n",
    "tf.disable_v2_behavior() \n",
    "\n",
    "data = [[2, 0, 81], [4, 4, 93], [6, 2, 91], [8, 3, 97]]\n",
    "x1 = [x_row1[0] for x_row1 in data]\n",
    "x2 = [x_row2[1] for x_row2 in data]\n",
    "y_data = [y_row[2] for y_row in data]\n",
    "\n",
    "a1 = tf.Variable(tf.random_uniform([1], 0, 10, dtype = tf.float64, seed = 0))\n",
    "b = tf.Variable(tf.random_uniform([1], 0, 100, dtype = tf.float64, seed = 0))\n",
    "a2 = tf.Variable(tf.random_uniform([1], 0, 10, dtype = tf.float64, seed = 0))\n",
    "\n",
    "y = a1 * x1 + a2 * x2 + b\n",
    "\n",
    "rmse = tf.sqrt(tf.reduce_mean(tf.square(y - y_data)))\n",
    "\n",
    "learning_rate = 0.1\n",
    "\n",
    "gradient_decent = tf.train.GradientDescentOptimizer(learning_rate).minimize(rmse)\n",
    "\n",
    "with tf.Session() as sess:\n",
    "    sess.run(tf.global_variables_initializer())\n",
    "    for step in range(2001):\n",
    "        sess.run(gradient_decent)\n",
    "        if step % 100 == 0:\n",
    "            print(\"Epoch: %.f, RMSE = %.04f, 기울기 a1  = %.4f, 기울기 a2 = %.4f, y 절편 b = %.4f\" % (step, sess.run(rmse), sess.run(a1), sess.run(a2), sess.run(b)))"
   ]
  }
 ],
 "metadata": {
  "kernelspec": {
   "display_name": "Python 3 (ipykernel)",
   "language": "python",
   "name": "python3"
  },
  "language_info": {
   "codemirror_mode": {
    "name": "ipython",
    "version": 3
   },
   "file_extension": ".py",
   "mimetype": "text/x-python",
   "name": "python",
   "nbconvert_exporter": "python",
   "pygments_lexer": "ipython3",
   "version": "3.8.15"
  }
 },
 "nbformat": 4,
 "nbformat_minor": 5
}
